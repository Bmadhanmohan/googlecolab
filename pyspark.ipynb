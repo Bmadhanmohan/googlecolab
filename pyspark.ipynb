{
  "cells": [
    {
      "cell_type": "markdown",
      "metadata": {
        "id": "view-in-github",
        "colab_type": "text"
      },
      "source": [
        "<a href=\"https://colab.research.google.com/github/Bmadhanmohan/googlecolab/blob/main/pyspark.ipynb\" target=\"_parent\"><img src=\"https://colab.research.google.com/assets/colab-badge.svg\" alt=\"Open In Colab\"/></a>"
      ]
    },
    {
      "cell_type": "code",
      "source": [
        "pip install pyspark"
      ],
      "metadata": {
        "colab": {
          "base_uri": "https://localhost:8080/"
        },
        "id": "QA9F_NxQxjHU",
        "outputId": "fc6c9e90-1ee3-43b1-f2bd-1880d60a8591"
      },
      "execution_count": 4,
      "outputs": [
        {
          "output_type": "stream",
          "name": "stdout",
          "text": [
            "Requirement already satisfied: pyspark in /usr/local/lib/python3.10/dist-packages (3.5.1)\n",
            "Requirement already satisfied: py4j==0.10.9.7 in /usr/local/lib/python3.10/dist-packages (from pyspark) (0.10.9.7)\n"
          ]
        }
      ]
    },
    {
      "cell_type": "code",
      "source": [
        "from pyspark.sql import *\n",
        "from pyspark import *"
      ],
      "metadata": {
        "id": "_9au2RCpxxmV"
      },
      "execution_count": 5,
      "outputs": []
    },
    {
      "cell_type": "code",
      "source": [
        "# prompt: spark object\n",
        "\n",
        "spark = SparkSession.builder.appName('New app').getOrCreate()\n"
      ],
      "metadata": {
        "id": "U8Fo91rxzPN5"
      },
      "execution_count": 6,
      "outputs": []
    },
    {
      "cell_type": "code",
      "source": [
        "# prompt: create dataframe using pyspark\n",
        "\n",
        "df = spark.createDataFrame([\n",
        "    (1, \"John\", \"Doe\", 30),\n",
        "    (2, \"Jane\", \"Doe\", 25),\n",
        "    (3, \"Alice\", \"Smith\", 28),\n",
        "    (4, \"Bob\", \"Jones\", 32),\n",
        "], [\"id\", \"first_name\", \"last_name\", \"age\"])\n",
        "\n"
      ],
      "metadata": {
        "id": "K53WbRwf3EFX"
      },
      "execution_count": 10,
      "outputs": []
    },
    {
      "cell_type": "code",
      "source": [
        "words =spark.sparkContext.parallelize(\n",
        "   [\"scala\",\n",
        "   \"java\",\n",
        "   \"hadoop\",\n",
        "   \"spark\",\n",
        "   \"akka\",\n",
        "   \"spark vs hadoop\",\n",
        "   \"pyspark\",\n",
        "   \"pyspark and spark\"]\n",
        ")\n",
        "coll = words.collect()\n",
        "print(coll)"
      ],
      "metadata": {
        "colab": {
          "base_uri": "https://localhost:8080/"
        },
        "id": "6_dJnkvJ4bz8",
        "outputId": "5d698d33-28d9-4691-ba12-9864b37059f1"
      },
      "execution_count": 17,
      "outputs": [
        {
          "output_type": "stream",
          "name": "stdout",
          "text": [
            "['scala', 'java', 'hadoop', 'spark', 'akka', 'spark vs hadoop', 'pyspark', 'pyspark and spark']\n"
          ]
        }
      ]
    }
  ],
  "metadata": {
    "colab": {
      "name": "Welcome To Colab",
      "toc_visible": true,
      "provenance": [],
      "include_colab_link": true
    },
    "kernelspec": {
      "display_name": "Python 3",
      "name": "python3"
    }
  },
  "nbformat": 4,
  "nbformat_minor": 0
}